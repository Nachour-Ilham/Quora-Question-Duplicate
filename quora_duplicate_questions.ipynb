{
  "cells": [
    {
      "attachments": {},
      "cell_type": "markdown",
      "metadata": {
        "id": "qR0VCxhJw2Ee"
      },
      "source": [
        "# Quora Question Pair Project\n",
        "\n",
        "The goal of this project is to predict duplicate question pairs. \n",
        "\n",
        "The input to the model are two free-text fields, presumably representing two questions.\n",
        "The ouptut from the model is a binary label, which is 1 if the questions are the same, 0 otherwise. "
      ]
    },
    {
      "attachments": {},
      "cell_type": "markdown",
      "metadata": {},
      "source": [
        "## Mounting Google Drive in Colab"
      ]
    },
    {
      "cell_type": "code",
      "execution_count": 12,
      "metadata": {
        "colab": {
          "base_uri": "https://localhost:8080/"
        },
        "id": "axAGjVQZthTt",
        "outputId": "698ae5a2-9c58-48a6-f66d-75fffee84b01"
      },
      "outputs": [
        {
          "name": "stdout",
          "output_type": "stream",
          "text": [
            "Drive already mounted at /content/drive; to attempt to forcibly remount, call drive.mount(\"/content/drive\", force_remount=True).\n"
          ]
        }
      ],
      "source": [
        "from google.colab import drive\n",
        "drive.mount('/content/drive')"
      ]
    },
    {
      "attachments": {},
      "cell_type": "markdown",
      "metadata": {},
      "source": [
        " ## Import required libraries"
      ]
    },
    {
      "cell_type": "code",
      "execution_count": 16,
      "metadata": {
        "colab": {
          "base_uri": "https://localhost:8080/"
        },
        "id": "xnm_gpGnuw3-",
        "outputId": "c13ffc5d-dec3-404b-d599-6710f973365a"
      },
      "outputs": [
        {
          "name": "stderr",
          "output_type": "stream",
          "text": [
            "[nltk_data] Downloading package stopwords to /root/nltk_data...\n",
            "[nltk_data]   Package stopwords is already up-to-date!\n"
          ]
        }
      ],
      "source": [
        "import numpy as np \n",
        "import pandas as pd\n",
        "import re\n",
        "\n",
        "import nltk\n",
        "nltk.download('stopwords')\n",
        "stops = set(stopwords.words('english'))\n",
        "from nltk.corpus import stopwords\n",
        "\n",
        "import datetime\n",
        "from time import time\n",
        "\n",
        "from gensim.models import KeyedVectors\n",
        "from sklearn.model_selection import train_test_split\n",
        "\n",
        "import itertools\n",
        "from tensorflow.keras.preprocessing.sequence import pad_sequences\n",
        "from keras.models import Model\n",
        "from keras.layers import Input, Embedding,LSTM,Lambda,Dense\n",
        "import keras.backend as K\n",
        "from keras.optimizers import Adadelta\n",
        "from keras.callbacks import ModelCheckpoint\n",
        "import matplotlib.pyplot as plt\n",
        "\n",
        "from keras import Sequential,backend\n"
      ]
    },
    {
      "attachments": {},
      "cell_type": "markdown",
      "metadata": {
        "id": "xcd4WRpFyGLU"
      },
      "source": [
        "## Loading a TSV Dataset into Pandas"
      ]
    },
    {
      "cell_type": "code",
      "execution_count": 14,
      "metadata": {
        "colab": {
          "base_uri": "https://localhost:8080/",
          "height": 589
        },
        "id": "Xn9HpguyuYXF",
        "outputId": "b7535b28-2f5e-425e-b145-7cc519bc6c37"
      },
      "outputs": [
        {
          "data": {
            "text/html": [
              "\n",
              "  <div id=\"df-5e7f39f8-5407-40e1-b4ca-e831e562448b\">\n",
              "    <div class=\"colab-df-container\">\n",
              "      <div>\n",
              "<style scoped>\n",
              "    .dataframe tbody tr th:only-of-type {\n",
              "        vertical-align: middle;\n",
              "    }\n",
              "\n",
              "    .dataframe tbody tr th {\n",
              "        vertical-align: top;\n",
              "    }\n",
              "\n",
              "    .dataframe thead th {\n",
              "        text-align: right;\n",
              "    }\n",
              "</style>\n",
              "<table border=\"1\" class=\"dataframe\">\n",
              "  <thead>\n",
              "    <tr style=\"text-align: right;\">\n",
              "      <th></th>\n",
              "      <th>id</th>\n",
              "      <th>qid1</th>\n",
              "      <th>qid2</th>\n",
              "      <th>question1</th>\n",
              "      <th>question2</th>\n",
              "      <th>is_duplicate</th>\n",
              "    </tr>\n",
              "  </thead>\n",
              "  <tbody>\n",
              "    <tr>\n",
              "      <th>0</th>\n",
              "      <td>0</td>\n",
              "      <td>1</td>\n",
              "      <td>2</td>\n",
              "      <td>What is the step by step guide to invest in sh...</td>\n",
              "      <td>What is the step by step guide to invest in sh...</td>\n",
              "      <td>0</td>\n",
              "    </tr>\n",
              "    <tr>\n",
              "      <th>1</th>\n",
              "      <td>1</td>\n",
              "      <td>3</td>\n",
              "      <td>4</td>\n",
              "      <td>What is the story of Kohinoor (Koh-i-Noor) Dia...</td>\n",
              "      <td>What would happen if the Indian government sto...</td>\n",
              "      <td>0</td>\n",
              "    </tr>\n",
              "    <tr>\n",
              "      <th>2</th>\n",
              "      <td>2</td>\n",
              "      <td>5</td>\n",
              "      <td>6</td>\n",
              "      <td>How can I increase the speed of my internet co...</td>\n",
              "      <td>How can Internet speed be increased by hacking...</td>\n",
              "      <td>0</td>\n",
              "    </tr>\n",
              "    <tr>\n",
              "      <th>3</th>\n",
              "      <td>3</td>\n",
              "      <td>7</td>\n",
              "      <td>8</td>\n",
              "      <td>Why am I mentally very lonely? How can I solve...</td>\n",
              "      <td>Find the remainder when [math]23^{24}[/math] i...</td>\n",
              "      <td>0</td>\n",
              "    </tr>\n",
              "    <tr>\n",
              "      <th>4</th>\n",
              "      <td>4</td>\n",
              "      <td>9</td>\n",
              "      <td>10</td>\n",
              "      <td>Which one dissolve in water quikly sugar, salt...</td>\n",
              "      <td>Which fish would survive in salt water?</td>\n",
              "      <td>0</td>\n",
              "    </tr>\n",
              "    <tr>\n",
              "      <th>...</th>\n",
              "      <td>...</td>\n",
              "      <td>...</td>\n",
              "      <td>...</td>\n",
              "      <td>...</td>\n",
              "      <td>...</td>\n",
              "      <td>...</td>\n",
              "    </tr>\n",
              "    <tr>\n",
              "      <th>404285</th>\n",
              "      <td>404285</td>\n",
              "      <td>433578</td>\n",
              "      <td>379845</td>\n",
              "      <td>How many keywords are there in the Racket prog...</td>\n",
              "      <td>How many keywords are there in PERL Programmin...</td>\n",
              "      <td>0</td>\n",
              "    </tr>\n",
              "    <tr>\n",
              "      <th>404286</th>\n",
              "      <td>404286</td>\n",
              "      <td>18840</td>\n",
              "      <td>155606</td>\n",
              "      <td>Do you believe there is life after death?</td>\n",
              "      <td>Is it true that there is life after death?</td>\n",
              "      <td>1</td>\n",
              "    </tr>\n",
              "    <tr>\n",
              "      <th>404287</th>\n",
              "      <td>404287</td>\n",
              "      <td>537928</td>\n",
              "      <td>537929</td>\n",
              "      <td>What is one coin?</td>\n",
              "      <td>What's this coin?</td>\n",
              "      <td>0</td>\n",
              "    </tr>\n",
              "    <tr>\n",
              "      <th>404288</th>\n",
              "      <td>404288</td>\n",
              "      <td>537930</td>\n",
              "      <td>537931</td>\n",
              "      <td>What is the approx annual cost of living while...</td>\n",
              "      <td>I am having little hairfall problem but I want...</td>\n",
              "      <td>0</td>\n",
              "    </tr>\n",
              "    <tr>\n",
              "      <th>404289</th>\n",
              "      <td>404289</td>\n",
              "      <td>537932</td>\n",
              "      <td>537933</td>\n",
              "      <td>What is like to have sex with cousin?</td>\n",
              "      <td>What is it like to have sex with your cousin?</td>\n",
              "      <td>0</td>\n",
              "    </tr>\n",
              "  </tbody>\n",
              "</table>\n",
              "<p>404290 rows × 6 columns</p>\n",
              "</div>\n",
              "      <button class=\"colab-df-convert\" onclick=\"convertToInteractive('df-5e7f39f8-5407-40e1-b4ca-e831e562448b')\"\n",
              "              title=\"Convert this dataframe to an interactive table.\"\n",
              "              style=\"display:none;\">\n",
              "        \n",
              "  <svg xmlns=\"http://www.w3.org/2000/svg\" height=\"24px\"viewBox=\"0 0 24 24\"\n",
              "       width=\"24px\">\n",
              "    <path d=\"M0 0h24v24H0V0z\" fill=\"none\"/>\n",
              "    <path d=\"M18.56 5.44l.94 2.06.94-2.06 2.06-.94-2.06-.94-.94-2.06-.94 2.06-2.06.94zm-11 1L8.5 8.5l.94-2.06 2.06-.94-2.06-.94L8.5 2.5l-.94 2.06-2.06.94zm10 10l.94 2.06.94-2.06 2.06-.94-2.06-.94-.94-2.06-.94 2.06-2.06.94z\"/><path d=\"M17.41 7.96l-1.37-1.37c-.4-.4-.92-.59-1.43-.59-.52 0-1.04.2-1.43.59L10.3 9.45l-7.72 7.72c-.78.78-.78 2.05 0 2.83L4 21.41c.39.39.9.59 1.41.59.51 0 1.02-.2 1.41-.59l7.78-7.78 2.81-2.81c.8-.78.8-2.07 0-2.86zM5.41 20L4 18.59l7.72-7.72 1.47 1.35L5.41 20z\"/>\n",
              "  </svg>\n",
              "      </button>\n",
              "      \n",
              "  <style>\n",
              "    .colab-df-container {\n",
              "      display:flex;\n",
              "      flex-wrap:wrap;\n",
              "      gap: 12px;\n",
              "    }\n",
              "\n",
              "    .colab-df-convert {\n",
              "      background-color: #E8F0FE;\n",
              "      border: none;\n",
              "      border-radius: 50%;\n",
              "      cursor: pointer;\n",
              "      display: none;\n",
              "      fill: #1967D2;\n",
              "      height: 32px;\n",
              "      padding: 0 0 0 0;\n",
              "      width: 32px;\n",
              "    }\n",
              "\n",
              "    .colab-df-convert:hover {\n",
              "      background-color: #E2EBFA;\n",
              "      box-shadow: 0px 1px 2px rgba(60, 64, 67, 0.3), 0px 1px 3px 1px rgba(60, 64, 67, 0.15);\n",
              "      fill: #174EA6;\n",
              "    }\n",
              "\n",
              "    [theme=dark] .colab-df-convert {\n",
              "      background-color: #3B4455;\n",
              "      fill: #D2E3FC;\n",
              "    }\n",
              "\n",
              "    [theme=dark] .colab-df-convert:hover {\n",
              "      background-color: #434B5C;\n",
              "      box-shadow: 0px 1px 3px 1px rgba(0, 0, 0, 0.15);\n",
              "      filter: drop-shadow(0px 1px 2px rgba(0, 0, 0, 0.3));\n",
              "      fill: #FFFFFF;\n",
              "    }\n",
              "  </style>\n",
              "\n",
              "      <script>\n",
              "        const buttonEl =\n",
              "          document.querySelector('#df-5e7f39f8-5407-40e1-b4ca-e831e562448b button.colab-df-convert');\n",
              "        buttonEl.style.display =\n",
              "          google.colab.kernel.accessAllowed ? 'block' : 'none';\n",
              "\n",
              "        async function convertToInteractive(key) {\n",
              "          const element = document.querySelector('#df-5e7f39f8-5407-40e1-b4ca-e831e562448b');\n",
              "          const dataTable =\n",
              "            await google.colab.kernel.invokeFunction('convertToInteractive',\n",
              "                                                     [key], {});\n",
              "          if (!dataTable) return;\n",
              "\n",
              "          const docLinkHtml = 'Like what you see? Visit the ' +\n",
              "            '<a target=\"_blank\" href=https://colab.research.google.com/notebooks/data_table.ipynb>data table notebook</a>'\n",
              "            + ' to learn more about interactive tables.';\n",
              "          element.innerHTML = '';\n",
              "          dataTable['output_type'] = 'display_data';\n",
              "          await google.colab.output.renderOutput(dataTable, element);\n",
              "          const docLink = document.createElement('div');\n",
              "          docLink.innerHTML = docLinkHtml;\n",
              "          element.appendChild(docLink);\n",
              "        }\n",
              "      </script>\n",
              "    </div>\n",
              "  </div>\n",
              "  "
            ],
            "text/plain": [
              "            id    qid1    qid2  \\\n",
              "0            0       1       2   \n",
              "1            1       3       4   \n",
              "2            2       5       6   \n",
              "3            3       7       8   \n",
              "4            4       9      10   \n",
              "...        ...     ...     ...   \n",
              "404285  404285  433578  379845   \n",
              "404286  404286   18840  155606   \n",
              "404287  404287  537928  537929   \n",
              "404288  404288  537930  537931   \n",
              "404289  404289  537932  537933   \n",
              "\n",
              "                                                question1  \\\n",
              "0       What is the step by step guide to invest in sh...   \n",
              "1       What is the story of Kohinoor (Koh-i-Noor) Dia...   \n",
              "2       How can I increase the speed of my internet co...   \n",
              "3       Why am I mentally very lonely? How can I solve...   \n",
              "4       Which one dissolve in water quikly sugar, salt...   \n",
              "...                                                   ...   \n",
              "404285  How many keywords are there in the Racket prog...   \n",
              "404286          Do you believe there is life after death?   \n",
              "404287                                  What is one coin?   \n",
              "404288  What is the approx annual cost of living while...   \n",
              "404289              What is like to have sex with cousin?   \n",
              "\n",
              "                                                question2  is_duplicate  \n",
              "0       What is the step by step guide to invest in sh...             0  \n",
              "1       What would happen if the Indian government sto...             0  \n",
              "2       How can Internet speed be increased by hacking...             0  \n",
              "3       Find the remainder when [math]23^{24}[/math] i...             0  \n",
              "4                 Which fish would survive in salt water?             0  \n",
              "...                                                   ...           ...  \n",
              "404285  How many keywords are there in PERL Programmin...             0  \n",
              "404286         Is it true that there is life after death?             1  \n",
              "404287                                  What's this coin?             0  \n",
              "404288  I am having little hairfall problem but I want...             0  \n",
              "404289      What is it like to have sex with your cousin?             0  \n",
              "\n",
              "[404290 rows x 6 columns]"
            ]
          },
          "execution_count": 14,
          "metadata": {},
          "output_type": "execute_result"
        }
      ],
      "source": [
        "data=pd.read_csv('/content/drive/MyDrive/quora_duplicate_questions.tsv',sep='\\t')\n",
        "data"
      ]
    },
    {
      "attachments": {},
      "cell_type": "markdown",
      "metadata": {
        "id": "OAt--YFeyQ94"
      },
      "source": [
        "## Data Preprocessing"
      ]
    },
    {
      "cell_type": "code",
      "execution_count": 25,
      "metadata": {
        "id": "58hu0XlbyTm7"
      },
      "outputs": [],
      "source": [
        "## Data Preprocessing\n",
        "\n",
        "def text_to_word_list(text):\n",
        "    ''' Preprocess and convert texts to a list of words '''\n",
        "    text = str(text)\n",
        "    # lowercase\n",
        "    text = text.lower()\n",
        "    # Clean the text\n",
        "    text = re.sub(r\"[^A-Za-z0-9]\", \" \", text)\n",
        "    # translating abbreviations\n",
        "    text = re.sub(r\"\\'re\", 'are', text)\n",
        "    text = re.sub(r\"\\'ve\", 'have', text)\n",
        "    text = re.sub(r\"\\'t\", 'not', text)\n",
        "    text = re.sub(r\"\\'d\", 'would', text)\n",
        "    text = re.sub(r\"\\'m\", 'am', text)\n",
        "    text = re.sub(\"where's\", 'where is', text)\n",
        "    text = re.sub(\"what's\", 'what is', text)\n",
        "    text = re.sub(\"how's\", 'how is', text)\n",
        "    text = re.sub(\"who's\", 'who is', text)\n",
        "    text = re.sub(\"why's\", 'why is', text)\n",
        "    text = re.sub(\"he's\", 'he is', text)\n",
        "    text = re.sub(\"it's\", 'it is', text)\n",
        "    text = re.sub(\"she's\", 'she is', text)\n",
        "    text = re.sub(\"\\'ll\", 'will', text)\n",
        "    text = text.split()\n",
        "\n",
        "    return text"
      ]
    },
    {
      "cell_type": "code",
      "execution_count": 26,
      "metadata": {
        "colab": {
          "base_uri": "https://localhost:8080/",
          "height": 206
        },
        "id": "xfbLishozxRM",
        "outputId": "d7524f23-cbae-46c0-e0c5-2c84b8fa45ec"
      },
      "outputs": [
        {
          "data": {
            "text/html": [
              "\n",
              "  <div id=\"df-4cdb9045-42bf-4fc6-9c32-8c3a33bd63de\">\n",
              "    <div class=\"colab-df-container\">\n",
              "      <div>\n",
              "<style scoped>\n",
              "    .dataframe tbody tr th:only-of-type {\n",
              "        vertical-align: middle;\n",
              "    }\n",
              "\n",
              "    .dataframe tbody tr th {\n",
              "        vertical-align: top;\n",
              "    }\n",
              "\n",
              "    .dataframe thead th {\n",
              "        text-align: right;\n",
              "    }\n",
              "</style>\n",
              "<table border=\"1\" class=\"dataframe\">\n",
              "  <thead>\n",
              "    <tr style=\"text-align: right;\">\n",
              "      <th></th>\n",
              "      <th>id</th>\n",
              "      <th>question1</th>\n",
              "      <th>question2</th>\n",
              "      <th>is_duplicate</th>\n",
              "    </tr>\n",
              "  </thead>\n",
              "  <tbody>\n",
              "    <tr>\n",
              "      <th>0</th>\n",
              "      <td>0</td>\n",
              "      <td>What is the step by step guide to invest in sh...</td>\n",
              "      <td>What is the step by step guide to invest in sh...</td>\n",
              "      <td>0</td>\n",
              "    </tr>\n",
              "    <tr>\n",
              "      <th>1</th>\n",
              "      <td>1</td>\n",
              "      <td>What is the story of Kohinoor (Koh-i-Noor) Dia...</td>\n",
              "      <td>What would happen if the Indian government sto...</td>\n",
              "      <td>0</td>\n",
              "    </tr>\n",
              "    <tr>\n",
              "      <th>2</th>\n",
              "      <td>2</td>\n",
              "      <td>How can I increase the speed of my internet co...</td>\n",
              "      <td>How can Internet speed be increased by hacking...</td>\n",
              "      <td>0</td>\n",
              "    </tr>\n",
              "    <tr>\n",
              "      <th>3</th>\n",
              "      <td>3</td>\n",
              "      <td>Why am I mentally very lonely? How can I solve...</td>\n",
              "      <td>Find the remainder when [math]23^{24}[/math] i...</td>\n",
              "      <td>0</td>\n",
              "    </tr>\n",
              "    <tr>\n",
              "      <th>4</th>\n",
              "      <td>4</td>\n",
              "      <td>Which one dissolve in water quikly sugar, salt...</td>\n",
              "      <td>Which fish would survive in salt water?</td>\n",
              "      <td>0</td>\n",
              "    </tr>\n",
              "  </tbody>\n",
              "</table>\n",
              "</div>\n",
              "      <button class=\"colab-df-convert\" onclick=\"convertToInteractive('df-4cdb9045-42bf-4fc6-9c32-8c3a33bd63de')\"\n",
              "              title=\"Convert this dataframe to an interactive table.\"\n",
              "              style=\"display:none;\">\n",
              "        \n",
              "  <svg xmlns=\"http://www.w3.org/2000/svg\" height=\"24px\"viewBox=\"0 0 24 24\"\n",
              "       width=\"24px\">\n",
              "    <path d=\"M0 0h24v24H0V0z\" fill=\"none\"/>\n",
              "    <path d=\"M18.56 5.44l.94 2.06.94-2.06 2.06-.94-2.06-.94-.94-2.06-.94 2.06-2.06.94zm-11 1L8.5 8.5l.94-2.06 2.06-.94-2.06-.94L8.5 2.5l-.94 2.06-2.06.94zm10 10l.94 2.06.94-2.06 2.06-.94-2.06-.94-.94-2.06-.94 2.06-2.06.94z\"/><path d=\"M17.41 7.96l-1.37-1.37c-.4-.4-.92-.59-1.43-.59-.52 0-1.04.2-1.43.59L10.3 9.45l-7.72 7.72c-.78.78-.78 2.05 0 2.83L4 21.41c.39.39.9.59 1.41.59.51 0 1.02-.2 1.41-.59l7.78-7.78 2.81-2.81c.8-.78.8-2.07 0-2.86zM5.41 20L4 18.59l7.72-7.72 1.47 1.35L5.41 20z\"/>\n",
              "  </svg>\n",
              "      </button>\n",
              "      \n",
              "  <style>\n",
              "    .colab-df-container {\n",
              "      display:flex;\n",
              "      flex-wrap:wrap;\n",
              "      gap: 12px;\n",
              "    }\n",
              "\n",
              "    .colab-df-convert {\n",
              "      background-color: #E8F0FE;\n",
              "      border: none;\n",
              "      border-radius: 50%;\n",
              "      cursor: pointer;\n",
              "      display: none;\n",
              "      fill: #1967D2;\n",
              "      height: 32px;\n",
              "      padding: 0 0 0 0;\n",
              "      width: 32px;\n",
              "    }\n",
              "\n",
              "    .colab-df-convert:hover {\n",
              "      background-color: #E2EBFA;\n",
              "      box-shadow: 0px 1px 2px rgba(60, 64, 67, 0.3), 0px 1px 3px 1px rgba(60, 64, 67, 0.15);\n",
              "      fill: #174EA6;\n",
              "    }\n",
              "\n",
              "    [theme=dark] .colab-df-convert {\n",
              "      background-color: #3B4455;\n",
              "      fill: #D2E3FC;\n",
              "    }\n",
              "\n",
              "    [theme=dark] .colab-df-convert:hover {\n",
              "      background-color: #434B5C;\n",
              "      box-shadow: 0px 1px 3px 1px rgba(0, 0, 0, 0.15);\n",
              "      filter: drop-shadow(0px 1px 2px rgba(0, 0, 0, 0.3));\n",
              "      fill: #FFFFFF;\n",
              "    }\n",
              "  </style>\n",
              "\n",
              "      <script>\n",
              "        const buttonEl =\n",
              "          document.querySelector('#df-4cdb9045-42bf-4fc6-9c32-8c3a33bd63de button.colab-df-convert');\n",
              "        buttonEl.style.display =\n",
              "          google.colab.kernel.accessAllowed ? 'block' : 'none';\n",
              "\n",
              "        async function convertToInteractive(key) {\n",
              "          const element = document.querySelector('#df-4cdb9045-42bf-4fc6-9c32-8c3a33bd63de');\n",
              "          const dataTable =\n",
              "            await google.colab.kernel.invokeFunction('convertToInteractive',\n",
              "                                                     [key], {});\n",
              "          if (!dataTable) return;\n",
              "\n",
              "          const docLinkHtml = 'Like what you see? Visit the ' +\n",
              "            '<a target=\"_blank\" href=https://colab.research.google.com/notebooks/data_table.ipynb>data table notebook</a>'\n",
              "            + ' to learn more about interactive tables.';\n",
              "          element.innerHTML = '';\n",
              "          dataTable['output_type'] = 'display_data';\n",
              "          await google.colab.output.renderOutput(dataTable, element);\n",
              "          const docLink = document.createElement('div');\n",
              "          docLink.innerHTML = docLinkHtml;\n",
              "          element.appendChild(docLink);\n",
              "        }\n",
              "      </script>\n",
              "    </div>\n",
              "  </div>\n",
              "  "
            ],
            "text/plain": [
              "   id                                          question1  \\\n",
              "0   0  What is the step by step guide to invest in sh...   \n",
              "1   1  What is the story of Kohinoor (Koh-i-Noor) Dia...   \n",
              "2   2  How can I increase the speed of my internet co...   \n",
              "3   3  Why am I mentally very lonely? How can I solve...   \n",
              "4   4  Which one dissolve in water quikly sugar, salt...   \n",
              "\n",
              "                                           question2  is_duplicate  \n",
              "0  What is the step by step guide to invest in sh...             0  \n",
              "1  What would happen if the Indian government sto...             0  \n",
              "2  How can Internet speed be increased by hacking...             0  \n",
              "3  Find the remainder when [math]23^{24}[/math] i...             0  \n",
              "4            Which fish would survive in salt water?             0  "
            ]
          },
          "execution_count": 26,
          "metadata": {},
          "output_type": "execute_result"
        }
      ],
      "source": [
        "data.head()"
      ]
    },
    {
      "cell_type": "code",
      "execution_count": 19,
      "metadata": {
        "id": "uaVCKjhu0At4"
      },
      "outputs": [],
      "source": [
        "# Removing unhelpful Columns from our data \n",
        "data.drop(['qid1','qid2'],axis=1, inplace=True)\n"
      ]
    },
    {
      "attachments": {},
      "cell_type": "markdown",
      "metadata": {},
      "source": [
        "## Loading Pre-trained Word Embeddings (Google News Word2Vec)"
      ]
    },
    {
      "cell_type": "code",
      "execution_count": 20,
      "metadata": {
        "colab": {
          "base_uri": "https://localhost:8080/"
        },
        "id": "co8z_k3m0GWH",
        "outputId": "a7d86e61-521c-4283-a18e-bd81eeb4b56c"
      },
      "outputs": [
        {
          "name": "stdout",
          "output_type": "stream",
          "text": [
            "[==================================================] 100.0% 1662.8/1662.8MB downloaded\n"
          ]
        }
      ],
      "source": [
        "import gensim.downloader as api\n",
        "Embedding_vectors =  api.load('word2vec-google-news-300')"
      ]
    },
    {
      "cell_type": "code",
      "execution_count": 27,
      "metadata": {
        "id": "nrgTp-Xh0MQo"
      },
      "outputs": [],
      "source": [
        "# Prepare embedding\n",
        "vocabulary = dict()\n",
        "inverse_vocabulary = ['<unk>']  \n",
        "word2vec = Embedding_vectors "
      ]
    },
    {
      "cell_type": "code",
      "execution_count": 29,
      "metadata": {
        "id": "L-uEEZAp0d3w"
      },
      "outputs": [],
      "source": [
        "#list containing the column names of the questions, which are \"question1\" and \"question2\"\n",
        "questions_cols = [\"question1\", \"question2\"]\n",
        "\n",
        "#list containing the indices of the question columns, which are 1 and 2. The indices correspond to the positions of the question columns in the data.\n",
        "questions_cols_nbs = [1, 2]\n",
        "\n",
        "for index, row in data.iterrows():\n",
        "    for question in questions_cols_nbs:\n",
        "\n",
        "        q2n = []  # q2n -> question numbers representation\n",
        "        for word in text_to_word_list(row[question]):\n",
        "            # Check for unwanted words\n",
        "            if word in stops and word not in word2vec.key_to_index :\n",
        "                continue\n",
        "            if word not in vocabulary:\n",
        "                vocabulary[word] = len(inverse_vocabulary)\n",
        "                q2n.append(len(inverse_vocabulary))\n",
        "                inverse_vocabulary.append(word)\n",
        "            else:\n",
        "                q2n.append(vocabulary[word])\n",
        "        # Replace questions as word to question as number representation\n",
        "        data.iat[index, question] = q2n"
      ]
    },
    {
      "attachments": {},
      "cell_type": "markdown",
      "metadata": {},
      "source": [
        "the code converts the text questions in the \"question1\" and \"question2\" columns of the data into a numerical representation, where each word is replaced with its corresponding index in the vocabulary. This numerical representation can then be used for training a model."
      ]
    },
    {
      "cell_type": "code",
      "execution_count": 30,
      "metadata": {
        "colab": {
          "base_uri": "https://localhost:8080/"
        },
        "id": "Px2bRuBc0luk",
        "outputId": "45ddaf1a-3d25-4148-a3ac-99d141e9601e"
      },
      "outputs": [
        {
          "name": "stderr",
          "output_type": "stream",
          "text": [
            "<ipython-input-30-0e6f4442684a>:8: DeprecationWarning: Call to deprecated `word_vec` (Use get_vector instead).\n",
            "  embeddings[index] = word2vec.word_vec(word)\n"
          ]
        }
      ],
      "source": [
        "# creating embeding with 300 dimensions \n",
        "embedding_dim = 300\n",
        "\n",
        "embeddings = 1 * np.random.randn(len(vocabulary) + 1, embedding_dim)  # This will be the embedding matrix\n",
        "embeddings[0] = 0  # So that the padding will be ignored\n",
        "# Build the embedding matrix\n",
        "for word, index in vocabulary.items():\n",
        "    if word in word2vec.key_to_index:\n",
        "        embeddings[index] = word2vec.word_vec(word)\n",
        "        \n"
      ]
    },
    {
      "cell_type": "code",
      "execution_count": 31,
      "metadata": {
        "colab": {
          "base_uri": "https://localhost:8080/",
          "height": 206
        },
        "id": "PYIaLIGV0okF",
        "outputId": "a68c93e1-96b7-43c1-e7b6-0d6fddddfa3e"
      },
      "outputs": [
        {
          "data": {
            "text/html": [
              "\n",
              "  <div id=\"df-abbbaa1f-fcbd-4d9e-bd8d-40668d038db5\">\n",
              "    <div class=\"colab-df-container\">\n",
              "      <div>\n",
              "<style scoped>\n",
              "    .dataframe tbody tr th:only-of-type {\n",
              "        vertical-align: middle;\n",
              "    }\n",
              "\n",
              "    .dataframe tbody tr th {\n",
              "        vertical-align: top;\n",
              "    }\n",
              "\n",
              "    .dataframe thead th {\n",
              "        text-align: right;\n",
              "    }\n",
              "</style>\n",
              "<table border=\"1\" class=\"dataframe\">\n",
              "  <thead>\n",
              "    <tr style=\"text-align: right;\">\n",
              "      <th></th>\n",
              "      <th>id</th>\n",
              "      <th>question1</th>\n",
              "      <th>question2</th>\n",
              "      <th>is_duplicate</th>\n",
              "    </tr>\n",
              "  </thead>\n",
              "  <tbody>\n",
              "    <tr>\n",
              "      <th>0</th>\n",
              "      <td>0</td>\n",
              "      <td>[1, 2, 3, 4, 5, 4, 6, 7, 8, 9, 10, 8, 11]</td>\n",
              "      <td>[1, 2, 3, 4, 5, 4, 6, 7, 8, 9, 10]</td>\n",
              "      <td>0</td>\n",
              "    </tr>\n",
              "    <tr>\n",
              "      <th>1</th>\n",
              "      <td>1</td>\n",
              "      <td>[1, 2, 3, 12, 13, 14, 15, 16, 17]</td>\n",
              "      <td>[1, 18, 19, 20, 3, 21, 22, 23, 3, 13, 14, 15, ...</td>\n",
              "      <td>0</td>\n",
              "    </tr>\n",
              "    <tr>\n",
              "      <th>2</th>\n",
              "      <td>2</td>\n",
              "      <td>[25, 26, 15, 27, 3, 28, 29, 30, 31, 32, 33, 34]</td>\n",
              "      <td>[25, 26, 30, 28, 35, 36, 5, 37, 38, 39]</td>\n",
              "      <td>0</td>\n",
              "    </tr>\n",
              "    <tr>\n",
              "      <th>3</th>\n",
              "      <td>3</td>\n",
              "      <td>[40, 41, 15, 42, 43, 44, 25, 26, 15, 45, 46]</td>\n",
              "      <td>[47, 3, 48, 49, 50, 51, 52, 50, 2, 53, 5, 52, 51]</td>\n",
              "      <td>0</td>\n",
              "    </tr>\n",
              "    <tr>\n",
              "      <th>4</th>\n",
              "      <td>4</td>\n",
              "      <td>[54, 55, 56, 8, 57, 58, 59, 60, 61, 62, 63, 64]</td>\n",
              "      <td>[54, 65, 18, 66, 8, 60, 57]</td>\n",
              "      <td>0</td>\n",
              "    </tr>\n",
              "  </tbody>\n",
              "</table>\n",
              "</div>\n",
              "      <button class=\"colab-df-convert\" onclick=\"convertToInteractive('df-abbbaa1f-fcbd-4d9e-bd8d-40668d038db5')\"\n",
              "              title=\"Convert this dataframe to an interactive table.\"\n",
              "              style=\"display:none;\">\n",
              "        \n",
              "  <svg xmlns=\"http://www.w3.org/2000/svg\" height=\"24px\"viewBox=\"0 0 24 24\"\n",
              "       width=\"24px\">\n",
              "    <path d=\"M0 0h24v24H0V0z\" fill=\"none\"/>\n",
              "    <path d=\"M18.56 5.44l.94 2.06.94-2.06 2.06-.94-2.06-.94-.94-2.06-.94 2.06-2.06.94zm-11 1L8.5 8.5l.94-2.06 2.06-.94-2.06-.94L8.5 2.5l-.94 2.06-2.06.94zm10 10l.94 2.06.94-2.06 2.06-.94-2.06-.94-.94-2.06-.94 2.06-2.06.94z\"/><path d=\"M17.41 7.96l-1.37-1.37c-.4-.4-.92-.59-1.43-.59-.52 0-1.04.2-1.43.59L10.3 9.45l-7.72 7.72c-.78.78-.78 2.05 0 2.83L4 21.41c.39.39.9.59 1.41.59.51 0 1.02-.2 1.41-.59l7.78-7.78 2.81-2.81c.8-.78.8-2.07 0-2.86zM5.41 20L4 18.59l7.72-7.72 1.47 1.35L5.41 20z\"/>\n",
              "  </svg>\n",
              "      </button>\n",
              "      \n",
              "  <style>\n",
              "    .colab-df-container {\n",
              "      display:flex;\n",
              "      flex-wrap:wrap;\n",
              "      gap: 12px;\n",
              "    }\n",
              "\n",
              "    .colab-df-convert {\n",
              "      background-color: #E8F0FE;\n",
              "      border: none;\n",
              "      border-radius: 50%;\n",
              "      cursor: pointer;\n",
              "      display: none;\n",
              "      fill: #1967D2;\n",
              "      height: 32px;\n",
              "      padding: 0 0 0 0;\n",
              "      width: 32px;\n",
              "    }\n",
              "\n",
              "    .colab-df-convert:hover {\n",
              "      background-color: #E2EBFA;\n",
              "      box-shadow: 0px 1px 2px rgba(60, 64, 67, 0.3), 0px 1px 3px 1px rgba(60, 64, 67, 0.15);\n",
              "      fill: #174EA6;\n",
              "    }\n",
              "\n",
              "    [theme=dark] .colab-df-convert {\n",
              "      background-color: #3B4455;\n",
              "      fill: #D2E3FC;\n",
              "    }\n",
              "\n",
              "    [theme=dark] .colab-df-convert:hover {\n",
              "      background-color: #434B5C;\n",
              "      box-shadow: 0px 1px 3px 1px rgba(0, 0, 0, 0.15);\n",
              "      filter: drop-shadow(0px 1px 2px rgba(0, 0, 0, 0.3));\n",
              "      fill: #FFFFFF;\n",
              "    }\n",
              "  </style>\n",
              "\n",
              "      <script>\n",
              "        const buttonEl =\n",
              "          document.querySelector('#df-abbbaa1f-fcbd-4d9e-bd8d-40668d038db5 button.colab-df-convert');\n",
              "        buttonEl.style.display =\n",
              "          google.colab.kernel.accessAllowed ? 'block' : 'none';\n",
              "\n",
              "        async function convertToInteractive(key) {\n",
              "          const element = document.querySelector('#df-abbbaa1f-fcbd-4d9e-bd8d-40668d038db5');\n",
              "          const dataTable =\n",
              "            await google.colab.kernel.invokeFunction('convertToInteractive',\n",
              "                                                     [key], {});\n",
              "          if (!dataTable) return;\n",
              "\n",
              "          const docLinkHtml = 'Like what you see? Visit the ' +\n",
              "            '<a target=\"_blank\" href=https://colab.research.google.com/notebooks/data_table.ipynb>data table notebook</a>'\n",
              "            + ' to learn more about interactive tables.';\n",
              "          element.innerHTML = '';\n",
              "          dataTable['output_type'] = 'display_data';\n",
              "          await google.colab.output.renderOutput(dataTable, element);\n",
              "          const docLink = document.createElement('div');\n",
              "          docLink.innerHTML = docLinkHtml;\n",
              "          element.appendChild(docLink);\n",
              "        }\n",
              "      </script>\n",
              "    </div>\n",
              "  </div>\n",
              "  "
            ],
            "text/plain": [
              "   id                                        question1  \\\n",
              "0   0        [1, 2, 3, 4, 5, 4, 6, 7, 8, 9, 10, 8, 11]   \n",
              "1   1                [1, 2, 3, 12, 13, 14, 15, 16, 17]   \n",
              "2   2  [25, 26, 15, 27, 3, 28, 29, 30, 31, 32, 33, 34]   \n",
              "3   3     [40, 41, 15, 42, 43, 44, 25, 26, 15, 45, 46]   \n",
              "4   4  [54, 55, 56, 8, 57, 58, 59, 60, 61, 62, 63, 64]   \n",
              "\n",
              "                                           question2  is_duplicate  \n",
              "0                 [1, 2, 3, 4, 5, 4, 6, 7, 8, 9, 10]             0  \n",
              "1  [1, 18, 19, 20, 3, 21, 22, 23, 3, 13, 14, 15, ...             0  \n",
              "2            [25, 26, 30, 28, 35, 36, 5, 37, 38, 39]             0  \n",
              "3  [47, 3, 48, 49, 50, 51, 52, 50, 2, 53, 5, 52, 51]             0  \n",
              "4                        [54, 65, 18, 66, 8, 60, 57]             0  "
            ]
          },
          "execution_count": 31,
          "metadata": {},
          "output_type": "execute_result"
        }
      ],
      "source": [
        "data.head()"
      ]
    },
    {
      "cell_type": "code",
      "execution_count": 34,
      "metadata": {
        "id": "gx-Y51Z-0p0N"
      },
      "outputs": [],
      "source": [
        "\n",
        "## find max length of text1 and text2 in both train an text for padding to make the both sentences length equal.\n",
        "max_seq_length = max(data.question1.map(lambda x: len(x)).max(),\n",
        "                     data.question2.map(lambda x: len(x)).max())\n",
        "                    \n",
        "\n",
        "# Split to train and validation\n",
        "validation_size = 1000\n",
        "training_size = len(data) - validation_size\n",
        "\n",
        "X = data[questions_cols]\n",
        "Y = data['is_duplicate']\n",
        "\n",
        "X_train, X_validation, Y_train, Y_validation = train_test_split(X, Y, test_size=validation_size)\n",
        "\n",
        "# Split to dicts\n",
        "X_train = {'left': X_train.question1, 'right': X_train.question2}\n",
        "X_validation = {'left': X_validation.question1, 'right': X_validation.question2}\n",
        "\n",
        "\n",
        "# Convert labels to their numpy representations\n",
        "Y_train = Y_train.values\n",
        "Y_validation = Y_validation.values\n",
        "\n",
        "# Zero padding\n",
        "for dataset, side in itertools.product([X_train, X_validation], ['left', 'right']):\n",
        "    dataset[side] = pad_sequences(dataset[side], maxlen=max_seq_length)\n",
        "\n",
        "\n",
        "assert X_train['left'].shape == X_train['right'].shape\n",
        "assert len(X_train['left']) == len(Y_train)"
      ]
    },
    {
      "cell_type": "code",
      "execution_count": 35,
      "metadata": {
        "id": "Xn1LZvgo00wN"
      },
      "outputs": [],
      "source": [
        "# Model variables\n",
        "n_hidden = 50\n",
        "gradient_clipping_norm = 1.25\n",
        "batch_size = 2000\n",
        "n_epoch = 20\n",
        "\n",
        "\n",
        "# The visible layer\n",
        "left_input = Input(shape=(max_seq_length,), dtype='int32',name='left_input')\n",
        "right_input = Input(shape=(max_seq_length,), dtype='int32',name='right_name')\n",
        "\n",
        "# maps input sequences of integers to dense vectors using pre-trained word embeddings\n",
        "embedding_layer = Embedding(len(embeddings), embedding_dim, weights=[embeddings], input_length=max_seq_length, trainable=False)\n",
        "\n",
        "# Embedded version of the inputs\n",
        "encoded_left = embedding_layer(left_input)\n",
        "encoded_right = embedding_layer(right_input)\n",
        "\n",
        "# Since this is a siamese network, both sides share the same LSTM\n",
        "shared_lstm = LSTM(n_hidden)\n",
        "left_output = shared_lstm(encoded_left)\n",
        "right_output = shared_lstm(encoded_right)\n",
        "\n",
        "# the Lambda layer is used to apply the custom mhd function to the outputs left_output and right_output.\n",
        "mhd = lambda x: backend.abs(x[0] - x[1])\n",
        "merged = Lambda(function=mhd, output_shape=lambda x: x[0], name='manhattan_distance')([left_output, right_output])\n",
        "\n",
        "# sigmoid\n",
        "# make the final predictions of the model\n",
        "# 1 indicates that the layer will output a single value\n",
        "preds = Dense(1, activation='sigmoid')(merged)\n",
        "\n",
        "# Pack it all up into a model\n",
        "malstm = Model(inputs=[left_input, right_input],outputs=preds)\n",
        "\n",
        "#The Adam optimizer adapts the learning rate based on adaptive estimates of first and second moments of the gradients,\n",
        "#which helps in efficient gradient-based optimization.\n",
        "\n",
        "malstm.compile(loss='mean_squared_error', optimizer='adam', metrics=['accuracy'])"
      ]
    },
    {
      "cell_type": "code",
      "execution_count": 36,
      "metadata": {
        "colab": {
          "base_uri": "https://localhost:8080/",
          "height": 466
        },
        "id": "XOo7uEch09K0",
        "outputId": "fe7bf5a4-4e68-4544-9bf9-8c937ae7d93b"
      },
      "outputs": [
        {
          "data": {
            "image/png": "[encoded data removed]",
            "text/plain": [
              "<IPython.core.display.Image object>"
            ]
          },
          "execution_count": 36,
          "metadata": {},
          "output_type": "execute_result"
        }
      ],
      "source": [
        "from keras.utils.vis_utils import plot_model\n",
        "plot_model(malstm)"
      ]
    },
    {
      "cell_type": "code",
      "execution_count": 37,
      "metadata": {
        "colab": {
          "base_uri": "https://localhost:8080/"
        },
        "id": "dIR_Lv6_3wRm",
        "outputId": "1d6e2195-07ba-4e21-9810-a1cf10e9cb22"
      },
      "outputs": [
        {
          "name": "stdout",
          "output_type": "stream",
          "text": [
            "Epoch 1/25\n",
            "202/202 [==============================] - 46s 182ms/step - loss: 0.2004 - accuracy: 0.6551 - val_loss: 0.1810 - val_accuracy: 0.7270\n",
            "Epoch 2/25\n",
            "202/202 [==============================] - 35s 174ms/step - loss: 0.1684 - accuracy: 0.7494 - val_loss: 0.1616 - val_accuracy: 0.7640\n",
            "Epoch 3/25\n",
            "202/202 [==============================] - 36s 179ms/step - loss: 0.1548 - accuracy: 0.7762 - val_loss: 0.1504 - val_accuracy: 0.7790\n",
            "Epoch 4/25\n",
            "202/202 [==============================] - 36s 176ms/step - loss: 0.1459 - accuracy: 0.7916 - val_loss: 0.1439 - val_accuracy: 0.7910\n",
            "Epoch 5/25\n",
            "202/202 [==============================] - 36s 177ms/step - loss: 0.1392 - accuracy: 0.8034 - val_loss: 0.1395 - val_accuracy: 0.7980\n",
            "Epoch 6/25\n",
            "202/202 [==============================] - 36s 176ms/step - loss: 0.1336 - accuracy: 0.8128 - val_loss: 0.1337 - val_accuracy: 0.8010\n",
            "Epoch 7/25\n",
            "202/202 [==============================] - 36s 177ms/step - loss: 0.1290 - accuracy: 0.8202 - val_loss: 0.1330 - val_accuracy: 0.8130\n",
            "Epoch 8/25\n",
            "202/202 [==============================] - 36s 176ms/step - loss: 0.1249 - accuracy: 0.8266 - val_loss: 0.1291 - val_accuracy: 0.8150\n",
            "Epoch 9/25\n",
            "202/202 [==============================] - 36s 177ms/step - loss: 0.1212 - accuracy: 0.8324 - val_loss: 0.1279 - val_accuracy: 0.8160\n",
            "Epoch 10/25\n",
            "202/202 [==============================] - 36s 176ms/step - loss: 0.1183 - accuracy: 0.8364 - val_loss: 0.1245 - val_accuracy: 0.8180\n",
            "Epoch 11/25\n",
            "202/202 [==============================] - 36s 177ms/step - loss: 0.1153 - accuracy: 0.8418 - val_loss: 0.1231 - val_accuracy: 0.8230\n",
            "Epoch 12/25\n",
            "202/202 [==============================] - 36s 177ms/step - loss: 0.1126 - accuracy: 0.8458 - val_loss: 0.1230 - val_accuracy: 0.8170\n",
            "Epoch 13/25\n",
            "202/202 [==============================] - 36s 177ms/step - loss: 0.1100 - accuracy: 0.8497 - val_loss: 0.1191 - val_accuracy: 0.8270\n",
            "Epoch 14/25\n",
            "202/202 [==============================] - 36s 176ms/step - loss: 0.1078 - accuracy: 0.8534 - val_loss: 0.1195 - val_accuracy: 0.8340\n",
            "Epoch 15/25\n",
            "202/202 [==============================] - 36s 178ms/step - loss: 0.1058 - accuracy: 0.8563 - val_loss: 0.1183 - val_accuracy: 0.8250\n",
            "Epoch 16/25\n",
            "202/202 [==============================] - 36s 177ms/step - loss: 0.1041 - accuracy: 0.8592 - val_loss: 0.1198 - val_accuracy: 0.8260\n",
            "Epoch 17/25\n",
            "202/202 [==============================] - 36s 177ms/step - loss: 0.1021 - accuracy: 0.8621 - val_loss: 0.1143 - val_accuracy: 0.8300\n",
            "Epoch 18/25\n",
            "202/202 [==============================] - 36s 177ms/step - loss: 0.1003 - accuracy: 0.8652 - val_loss: 0.1170 - val_accuracy: 0.8280\n",
            "Epoch 19/25\n",
            "202/202 [==============================] - 36s 178ms/step - loss: 0.0987 - accuracy: 0.8678 - val_loss: 0.1139 - val_accuracy: 0.8380\n",
            "Epoch 20/25\n",
            "202/202 [==============================] - 36s 178ms/step - loss: 0.0973 - accuracy: 0.8702 - val_loss: 0.1134 - val_accuracy: 0.8280\n",
            "Epoch 21/25\n",
            "202/202 [==============================] - 36s 178ms/step - loss: 0.0959 - accuracy: 0.8723 - val_loss: 0.1124 - val_accuracy: 0.8430\n",
            "Epoch 22/25\n",
            "202/202 [==============================] - 36s 177ms/step - loss: 0.0947 - accuracy: 0.8742 - val_loss: 0.1150 - val_accuracy: 0.8290\n",
            "Epoch 23/25\n",
            "202/202 [==============================] - 36s 177ms/step - loss: 0.0934 - accuracy: 0.8767 - val_loss: 0.1150 - val_accuracy: 0.8360\n",
            "Epoch 24/25\n",
            "202/202 [==============================] - 36s 176ms/step - loss: 0.0923 - accuracy: 0.8782 - val_loss: 0.1137 - val_accuracy: 0.8400\n",
            "Epoch 25/25\n",
            "202/202 [==============================] - 36s 178ms/step - loss: 0.0908 - accuracy: 0.8805 - val_loss: 0.1142 - val_accuracy: 0.8420\n",
            "Training time finished.\n",
            "25 epochs in 0:15:05.133320\n"
          ]
        }
      ],
      "source": [
        "# Start training\n",
        "n_epoch = 25\n",
        "training_start_time = time()\n",
        "\n",
        "malstm_trained = malstm.fit([X_train['left'], X_train['right']], Y_train, batch_size=batch_size, epochs=n_epoch,\n",
        "                            validation_data=([X_validation['left'], X_validation['right']], Y_validation))\n",
        "\n",
        "print(\"Training time finished.\\n{} epochs in {}\".format(n_epoch, datetime.timedelta(seconds=time()-training_start_time)))"
      ]
    },
    {
      "cell_type": "code",
      "execution_count": 41,
      "metadata": {
        "id": "7IIcha357uXw"
      },
      "outputs": [],
      "source": [
        "q1 = \"What are some effective strategies to enhance my photography skills?\"\n",
        "q2 = \"How can I improve my photography skills?\"\n",
        "q3 = \"What are the key ingredients for a delicious chocolate cake?\"\n"
      ]
    },
    {
      "cell_type": "code",
      "execution_count": 42,
      "metadata": {
        "id": "YAbn7KZx3-dR"
      },
      "outputs": [],
      "source": [
        "newdf = pd.DataFrame(np.array([[q1, q2], [q1, q3]]),\n",
        "                   columns=['qst1', 'qst2'])\n",
        "\n",
        "text1_preprocess = newdf['qst1'].apply(text_to_word_list)\n",
        "text2_preprocess = newdf['qst2'].apply(text_to_word_list)\n",
        "\n",
        "t1v = list()\n",
        "t2v = list()\n",
        "\n",
        "for row_text1 in text1_preprocess:\n",
        "  t1_num = []\n",
        "  for word in row_text1 :\n",
        "      if word in vocabulary:\n",
        "          t1_num.append(vocabulary[word])\n",
        "  t1v.append(t1_num)\n",
        "\n",
        "for row_text2 in text2_preprocess:\n",
        "  t2_num = []\n",
        "  for word in row_text2: \n",
        "    if word in vocabulary:\n",
        "      t2_num.append(vocabulary[word])\n",
        "  t2v.append(t2_num)\n"
      ]
    },
    {
      "cell_type": "code",
      "execution_count": 43,
      "metadata": {
        "colab": {
          "base_uri": "https://localhost:8080/"
        },
        "id": "glUKyQAw718H",
        "outputId": "0e01b699-bfff-40ff-82de-a4ff413d6f05"
      },
      "outputs": [
        {
          "name": "stdout",
          "output_type": "stream",
          "text": [
            "1/1 [==============================] - 0s 23ms/step\n"
          ]
        },
        {
          "data": {
            "text/plain": [
              "array([[0.8265936 ],\n",
              "       [0.00421833]], dtype=float32)"
            ]
          },
          "execution_count": 43,
          "metadata": {},
          "output_type": "execute_result"
        }
      ],
      "source": [
        "x_new = pd.DataFrame(zip(t1v, t2v), columns=[\"qst1\", \"qst2\"])\n",
        "  # Split to dicts\n",
        "X_test = {'left': x_new.qst1, 'right': x_new.qst2}\n",
        "# Zero padding\n",
        "for dataset, side in itertools.product([X_test], ['left', 'right']):\n",
        "    dataset[side] = pad_sequences(dataset[side], maxlen=max_seq_length)\n",
        "assert X_test['left'].shape == X_test['right'].shape\n",
        "\n",
        "result = malstm.predict([X_test['left'], X_test['right']])\n",
        "result"
      ]
    },
    {
      "cell_type": "code",
      "execution_count": 45,
      "metadata": {
        "colab": {
          "base_uri": "https://localhost:8080/"
        },
        "id": "la7Z9S059usP",
        "outputId": "084a91ad-3946-42b0-878c-82e5679a71a9"
      },
      "outputs": [
        {
          "name": "stdout",
          "output_type": "stream",
          "text": [
            "[1, 0]\n"
          ]
        }
      ],
      "source": [
        "# Apply threshold for prediction\n",
        "predictions = [1 if result > 0.5 else 0 for result in result]\n",
        "\n",
        "print(predictions)"
      ]
    },
    {
      "cell_type": "code",
      "execution_count": null,
      "metadata": {
        "id": "lWwF0VGF96QF"
      },
      "outputs": [],
      "source": []
    }
  ],
  "metadata": {
    "accelerator": "GPU",
    "colab": {
      "gpuType": "T4",
      "provenance": []
    },
    "kernelspec": {
      "display_name": "Python 3",
      "name": "python3"
    },
    "language_info": {
      "name": "python"
    }
  },
  "nbformat": 4,
  "nbformat_minor": 0
}
